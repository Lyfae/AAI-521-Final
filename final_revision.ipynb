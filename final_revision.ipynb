{
 "cells": [
  {
   "cell_type": "markdown",
   "metadata": {},
   "source": [
    "### Authors:\n",
    "Christopher Watson  \n",
    "Paul Thai"
   ]
  },
  {
   "cell_type": "code",
   "execution_count": 18,
   "metadata": {},
   "outputs": [],
   "source": [
    "import torch\n",
    "import os\n",
    "import cv2 as cv\n",
    "import imghdr\n",
    "\n",
    "import random\n",
    "import pandas as pd\n",
    "import numpy as np\n",
    "import matplotlib.pyplot as plt\n",
    "import seaborn as sns\n",
    "import plotly.express as px\n",
    "\n",
    "import gradio\n",
    "\n",
    "from PIL import Image\n",
    "from ultralytics import YOLO\n",
    "from ultralytics.utils.plotting import Annotator"
   ]
  },
  {
   "cell_type": "code",
   "execution_count": 19,
   "metadata": {},
   "outputs": [
    {
     "name": "stdout",
     "output_type": "stream",
     "text": [
      "Using GPU: NVIDIA GeForce RTX 2070 SUPER\n"
     ]
    }
   ],
   "source": [
    "if torch.cuda.is_available():\n",
    "    device = torch.device(\"cuda\")\n",
    "    print(\"Using GPU:\", torch.cuda.get_device_name(0))\n",
    "else:\n",
    "    device = torch.device(\"cpu\")\n",
    "    print(\"GPU not available, using CPU.\")"
   ]
  },
  {
   "cell_type": "markdown",
   "metadata": {},
   "source": [
    "### Helper Functions + Classes"
   ]
  },
  {
   "cell_type": "code",
   "execution_count": 20,
   "metadata": {},
   "outputs": [],
   "source": [
    "# Find subfolder contents\n",
    "def find_subfolder_content_length(path):\n",
    "  subfolder_length = {}\n",
    "\n",
    "  for subfolder in os.listdir(path):\n",
    "    subfolder_path = os.path.join(path,subfolder)\n",
    "\n",
    "    if os.path.isdir(subfolder_path):\n",
    "      content_length = len(os.listdir(subfolder_path))\n",
    "      subfolder_length[subfolder] = content_length\n",
    "\n",
    "  return subfolder_length\n",
    "\n",
    "# Displaying some images\n",
    "def display_sample(batch):\n",
    "  figure, axis = plt.subplots(ncols = 4, figsize=(15,15))\n",
    "  for index, image in enumerate(batch[0][:4]):\n",
    "    axis[index].imshow(image.astype(int))\n",
    "    axis[index].title.set_text(batch[1][index])"
   ]
  },
  {
   "cell_type": "code",
   "execution_count": 21,
   "metadata": {},
   "outputs": [],
   "source": [
    "class YogAI:\n",
    "    \"\"\"A class to manage the gym steps of people in a real-time video stream based on their poses.\"\"\"\n",
    "\n",
    "    def __init__(self):\n",
    "        \"\"\"Initializes the AIGym with default values for Visual and Image parameters.\"\"\"\n",
    "\n",
    "        # Image and line thickness\n",
    "        self.im0 = None\n",
    "        self.tf = None\n",
    "\n",
    "        # Keypoints and count information\n",
    "        self.keypoints = None\n",
    "        self.threshold = 0.001\n",
    "\n",
    "        # Store stage, count and angle information\n",
    "        self.angle = None\n",
    "        self.count = None\n",
    "        self.yoga_pose = 'standing'\n",
    "        self.kp_check = None\n",
    "\n",
    "        # Visuals\n",
    "        self.view_frame = False\n",
    "        self.annotator = None\n",
    "\n",
    "    # Setting our paraemters\n",
    "    def set_params(self,\n",
    "                   kp_check,\n",
    "                   line_thickness=2,\n",
    "                   view_frame = False,\n",
    "                   yoga_pose = 'standing'):\n",
    "        \n",
    "        self.kp_check = kp_check\n",
    "        self.tf = line_thickness\n",
    "        self.view_frame = view_frame\n",
    "        self.yoga_pose = yoga_pose\n",
    "\n",
    "    # RT Angles\n",
    "    def plot_angle(self, \n",
    "                   angle_text,\n",
    "                   command, \n",
    "                   center_kpt, \n",
    "                   line_thickness=2):\n",
    "        \n",
    "        angle_text = f' {angle_text:.2f}'\n",
    "        font_scale = 0.6 + (line_thickness / 10.0)\n",
    "\n",
    "        # Draw angle\n",
    "        (angle_text_width, angle_text_height), _ = cv.getTextSize(angle_text, cv.FONT_HERSHEY_SIMPLEX, font_scale,\n",
    "                                                                    line_thickness)\n",
    "        angle_text_position = (int(center_kpt[0]), int(center_kpt[1]))\n",
    "        angle_background_position = (angle_text_position[0], angle_text_position[1] - angle_text_height - 5)\n",
    "        angle_background_size = (angle_text_width + 2 * 5, angle_text_height + 2 * 5 + (line_thickness * 2))\n",
    "        cv.rectangle(self.frame, angle_background_position, (angle_background_position[0] + angle_background_size[0],\n",
    "                                                            angle_background_position[1] + angle_background_size[1]),\n",
    "                        (255, 255, 255), -1)\n",
    "        cv.putText(self.frame, command, angle_text_position, cv.FONT_HERSHEY_SIMPLEX, font_scale, (0, 0, 0),\n",
    "                line_thickness)\n",
    "\n",
    "    # Determining the different poses\n",
    "    def find_pose(self,\n",
    "                  frame,\n",
    "                  results,\n",
    "                  frame_count,\n",
    "                  full_name):\n",
    "        self.frame = frame\n",
    "\n",
    "        if frame_count == 1:\n",
    "            self.count = [0] * len(results[0])\n",
    "            self.angle = [0] * len(results[0])\n",
    "            self.stage = ['-' for _ in results[0]]\n",
    "\n",
    "        self.keypoints = results[0].keypoints.data\n",
    "        self.annotator = Annotator(frame, line_width=2)\n",
    "\n",
    "        temp_angles = {}\n",
    "        temp_angles['img'] = full_name\n",
    "\n",
    "        for things in self.kp_check:\n",
    "            for ind, k in enumerate(reversed(self.keypoints)):\n",
    "\n",
    "                try:\n",
    "                    self.angle[ind] = self.annotator.estimate_pose_angle(k[int(things[0])].cpu(),\n",
    "                                                                            k[int(things[1])].cpu(),\n",
    "                                                                            k[int(things[2])].cpu())\n",
    "                    self.im0 = self.annotator.draw_specific_points(k, things, shape=(640, 640), radius=10)\n",
    "\n",
    "                    temp_angles[things[3]] =  self.angle[ind]\n",
    "\n",
    "                except:\n",
    "                    pass\n",
    "        res_angles =  pd.DataFrame(columns=list(temp_angles.keys()))\n",
    "        res_angles.loc[0] = list(temp_angles.values())    \n",
    "\n",
    "        return res_angles\n",
    "    \n",
    "\n",
    "    def calibration(self,\n",
    "                    frame,\n",
    "                    res_angles,\n",
    "                    bounding_range,\n",
    "                    results,\n",
    "                    frame_count):\n",
    "        self.frame = frame\n",
    "        \n",
    "        if frame_count == 1:\n",
    "            self.angle = [0] * len(results[0])\n",
    "        \n",
    "        self.keypoints = results[0].keypoints.data\n",
    "        self.annotator = Annotator(frame, line_width=2)\n",
    "\n",
    "        for things in self.kp_check:\n",
    "            for ind, k in enumerate(reversed(self.keypoints)):\n",
    "                try:\n",
    "                    if self.yoga_pose == 'Virabhadrasana_Two_left': # Define the poses here\n",
    "                        self.angle[ind] = self.annotator.estimate_pose_angle(k[int(things[0])].cpu(),\n",
    "                                                                            k[int(things[1])].cpu(),\n",
    "                                                                            k[int(things[2])].cpu())\n",
    "                        self.bound_angles(center_kpt=k[int(things[1])],\n",
    "                                        pos_angle = self.angle[ind],\n",
    "                                        angles=res_angles,\n",
    "                                        bounding_range=bounding_range)\n",
    "                        \n",
    "                    if self.yoga_pose == 'Virabhadrasana_Two_right': # Define the poses here\n",
    "                        self.angle[ind] = self.annotator.estimate_pose_angle(k[int(things[0])].cpu(),\n",
    "                                                                            k[int(things[1])].cpu(),\n",
    "                                                                            k[int(things[2])].cpu())\n",
    "                        self.bound_angles(center_kpt=k[int(things[1])],\n",
    "                                        pos_angle = self.angle[ind],\n",
    "                                        angles=res_angles,\n",
    "                                        bounding_range=bounding_range)\n",
    "                        \n",
    "                    if self.yoga_pose == 'Upavistha_Konasana': # Define the poses here\n",
    "                        self.angle[ind] = self.annotator.estimate_pose_angle(k[int(things[0])].cpu(),\n",
    "                                                                            k[int(things[1])].cpu(),\n",
    "                                                                            k[int(things[2])].cpu())\n",
    "                        self.bound_angles(center_kpt=k[int(things[1])],\n",
    "                                        pos_angle = self.angle[ind],\n",
    "                                        angles=res_angles,\n",
    "                                        bounding_range=bounding_range)\n",
    "                        \n",
    "                    if self.yoga_pose == 'Adho_Mukha_Svanasana_left': # Define the poses here\n",
    "                        self.angle[ind] = self.annotator.estimate_pose_angle(k[int(things[0])].cpu(),\n",
    "                                                                            k[int(things[1])].cpu(),\n",
    "                                                                            k[int(things[2])].cpu())\n",
    "                        self.bound_angles(center_kpt=k[int(things[1])],\n",
    "                                        pos_angle = self.angle[ind],\n",
    "                                        angles=res_angles,\n",
    "                                        bounding_range=bounding_range)\n",
    "                        \n",
    "                    if self.yoga_pose == 'Adho_Mukha_Svanasana_right': # Define the poses here\n",
    "                        self.angle[ind] = self.annotator.estimate_pose_angle(k[int(things[0])].cpu(),\n",
    "                                                                            k[int(things[1])].cpu(),\n",
    "                                                                            k[int(things[2])].cpu())\n",
    "                        self.bound_angles(center_kpt=k[int(things[1])],\n",
    "                                        pos_angle = self.angle[ind],\n",
    "                                        angles=res_angles,\n",
    "                                        bounding_range=bounding_range)\n",
    "                        \n",
    "                except:\n",
    "                    pass\n",
    "                    \n",
    "            self.annotator.kpts(k,shape=(500,500),radius=1,kpt_line=True)\n",
    "                    \n",
    "        if self.view_frame:\n",
    "            cv.putText(self.frame,\n",
    "                       f'Pose: {self.yoga_pose}',\n",
    "                       (50,25),\n",
    "                       cv.FONT_HERSHEY_SIMPLEX,\n",
    "                       0.6 + (self.tf / 10.0),\n",
    "                       (255, 255, 255),\n",
    "                       2)\n",
    "\n",
    "        return self.frame, self.yoga_pose   \n",
    "                \n",
    "    \n",
    "    def bound_angles(self,\n",
    "                     center_kpt,\n",
    "                     pos_angle,\n",
    "                     angles,\n",
    "                     bounding_range):\n",
    "\n",
    "        for angle_type in angles:\n",
    "            if angles[angle_type][0]:\n",
    "                # This part really needs to be refined, but as a foundation, its great!\n",
    "                # Decided to put this not in range instead of angles because all angles are absoluted\n",
    "                if angles[angle_type][0] < bounding_range[angle_type][0]:\n",
    "                    self.plot_angle(angle_text=pos_angle,command='not in range',center_kpt=center_kpt,line_thickness=self.tf)\n",
    "                elif angles[angle_type][0] >  bounding_range[angle_type][1]:\n",
    "                    self.plot_angle(angle_text=pos_angle,command='not in range',center_kpt=center_kpt,line_thickness=self.tf)\n",
    "                else:\n",
    "                    self.plot_angle(angle_text=pos_angle,command='in range',center_kpt=center_kpt,line_thickness=self.tf)\n",
    "            else:\n",
    "                continue\n",
    "\n",
    "        "
   ]
  },
  {
   "cell_type": "markdown",
   "metadata": {},
   "source": [
    "### Data Exploration"
   ]
  },
  {
   "cell_type": "code",
   "execution_count": 22,
   "metadata": {},
   "outputs": [
    {
     "name": "stdout",
     "output_type": "stream",
     "text": [
      "The Adho Mukha Svanasana folder has 74 files\n",
      "The Adho Mukha Vrksasana folder has 65 files\n",
      "The Alanasana folder has 18 files\n",
      "The Anjaneyasana folder has 71 files\n",
      "The Ardha Chandrasana folder has 59 files\n",
      "The Ardha Matsyendrasana folder has 96 files\n",
      "The Ardha Navasana folder has 13 files\n",
      "The Ardha Pincha Mayurasana folder has 54 files\n",
      "The Ashta Chandrasana folder has 12 files\n",
      "The Baddha Konasana folder has 81 files\n",
      "The Bakasana folder has 84 files\n",
      "The Balasana folder has 79 files\n",
      "The Bitilasana folder has 94 files\n",
      "The Camatkarasana folder has 62 files\n",
      "The Dhanurasana folder has 54 files\n",
      "The Eka Pada Rajakapotasana folder has 53 files\n",
      "The Garudasana folder has 85 files\n",
      "The Halasana folder has 71 files\n",
      "The Hanumanasana folder has 41 files\n",
      "The Malasana folder has 73 files\n",
      "The Marjaryasana folder has 56 files\n",
      "The Navasana folder has 18 files\n",
      "The Padmasana folder has 77 files\n",
      "The Parsva Virabhadrasana folder has 14 files\n",
      "The Parsvottanasana folder has 43 files\n",
      "The Paschimottanasana folder has 62 files\n",
      "The Phalakasana folder has 66 files\n",
      "The Pincha Mayurasana folder has 43 files\n",
      "The Salamba Bhujangasana folder has 62 files\n",
      "The Salamba Sarvangasana folder has 73 files\n",
      "The Setu Bandha Sarvangasana folder has 66 files\n",
      "The Sivasana folder has 20 files\n",
      "The Supta Kapotasana folder has 13 files\n",
      "The Trikonasana folder has 23 files\n",
      "The Upavistha Konasana folder has 17 files\n",
      "The Urdhva Dhanurasana folder has 74 files\n",
      "The Urdhva Mukha Svsnssana folder has 69 files\n",
      "The Ustrasana folder has 96 files\n",
      "The Utkatasana folder has 81 files\n",
      "The Uttanasana folder has 71 files\n",
      "The Utthita Hasta Padangusthasana folder has 64 files\n",
      "The Utthita Parsvakonasana folder has 69 files\n",
      "The Vasisthasana folder has 80 files\n",
      "The Virabhadrasana One folder has 63 files\n",
      "The Virabhadrasana Three folder has 69 files\n",
      "The Virabhadrasana Two folder has 60 files\n",
      "The Vrksasana folder has 68 files\n"
     ]
    }
   ],
   "source": [
    "# Exploring the data\n",
    "image_path = './Data/'\n",
    "subfolder_length = find_subfolder_content_length(image_path)\n",
    "total_files = 0\n",
    "total_folders = 0\n",
    "\n",
    "# Display the length of the subfolders\n",
    "for subfolder, length in subfolder_length.items():\n",
    "  total_files += length\n",
    "  total_folders += 1\n",
    "  print(f'The {subfolder} folder has {length} files')"
   ]
  },
  {
   "cell_type": "code",
   "execution_count": 23,
   "metadata": {},
   "outputs": [
    {
     "name": "stdout",
     "output_type": "stream",
     "text": [
      "In total, there are 2756 files\n",
      "In total, there are 47 folders\n"
     ]
    }
   ],
   "source": [
    "# Total files\n",
    "print(f'In total, there are {total_files} files')\n",
    "\n",
    "# Total folders\n",
    "print(f'In total, there are {total_folders} folders')"
   ]
  },
  {
   "cell_type": "code",
   "execution_count": 24,
   "metadata": {},
   "outputs": [
    {
     "data": {
      "application/vnd.plotly.v1+json": {
       "config": {
        "plotlyServerURL": "https://plot.ly"
       },
       "data": [
        {
         "domain": {
          "x": [
           0,
           1
          ],
          "y": [
           0,
           1
          ]
         },
         "hovertemplate": "label=%{label}<br>value=%{value}<extra></extra>",
         "labels": [
          "Adho Mukha Svanasana",
          "Adho Mukha Vrksasana",
          "Alanasana",
          "Anjaneyasana",
          "Ardha Chandrasana",
          "Ardha Matsyendrasana",
          "Ardha Navasana",
          "Ardha Pincha Mayurasana",
          "Ashta Chandrasana",
          "Baddha Konasana",
          "Bakasana",
          "Balasana",
          "Bitilasana",
          "Camatkarasana",
          "Dhanurasana",
          "Eka Pada Rajakapotasana",
          "Garudasana",
          "Halasana",
          "Hanumanasana",
          "Malasana",
          "Marjaryasana",
          "Navasana",
          "Padmasana",
          "Parsva Virabhadrasana",
          "Parsvottanasana",
          "Paschimottanasana",
          "Phalakasana",
          "Pincha Mayurasana",
          "Salamba Bhujangasana",
          "Salamba Sarvangasana",
          "Setu Bandha Sarvangasana",
          "Sivasana",
          "Supta Kapotasana",
          "Trikonasana",
          "Upavistha Konasana",
          "Urdhva Dhanurasana",
          "Urdhva Mukha Svsnssana",
          "Ustrasana",
          "Utkatasana",
          "Uttanasana",
          "Utthita Hasta Padangusthasana",
          "Utthita Parsvakonasana",
          "Vasisthasana",
          "Virabhadrasana One",
          "Virabhadrasana Three",
          "Virabhadrasana Two",
          "Vrksasana"
         ],
         "legendgroup": "",
         "name": "",
         "showlegend": true,
         "type": "pie",
         "values": [
          74,
          65,
          18,
          71,
          59,
          96,
          13,
          54,
          12,
          81,
          84,
          79,
          94,
          62,
          54,
          53,
          85,
          71,
          41,
          73,
          56,
          18,
          77,
          14,
          43,
          62,
          66,
          43,
          62,
          73,
          66,
          20,
          13,
          23,
          17,
          74,
          69,
          96,
          81,
          71,
          64,
          69,
          80,
          63,
          69,
          60,
          68
         ]
        }
       ],
       "layout": {
        "legend": {
         "tracegroupgap": 0
        },
        "template": {
         "data": {
          "bar": [
           {
            "error_x": {
             "color": "#2a3f5f"
            },
            "error_y": {
             "color": "#2a3f5f"
            },
            "marker": {
             "line": {
              "color": "#E5ECF6",
              "width": 0.5
             },
             "pattern": {
              "fillmode": "overlay",
              "size": 10,
              "solidity": 0.2
             }
            },
            "type": "bar"
           }
          ],
          "barpolar": [
           {
            "marker": {
             "line": {
              "color": "#E5ECF6",
              "width": 0.5
             },
             "pattern": {
              "fillmode": "overlay",
              "size": 10,
              "solidity": 0.2
             }
            },
            "type": "barpolar"
           }
          ],
          "carpet": [
           {
            "aaxis": {
             "endlinecolor": "#2a3f5f",
             "gridcolor": "white",
             "linecolor": "white",
             "minorgridcolor": "white",
             "startlinecolor": "#2a3f5f"
            },
            "baxis": {
             "endlinecolor": "#2a3f5f",
             "gridcolor": "white",
             "linecolor": "white",
             "minorgridcolor": "white",
             "startlinecolor": "#2a3f5f"
            },
            "type": "carpet"
           }
          ],
          "choropleth": [
           {
            "colorbar": {
             "outlinewidth": 0,
             "ticks": ""
            },
            "type": "choropleth"
           }
          ],
          "contour": [
           {
            "colorbar": {
             "outlinewidth": 0,
             "ticks": ""
            },
            "colorscale": [
             [
              0,
              "#0d0887"
             ],
             [
              0.1111111111111111,
              "#46039f"
             ],
             [
              0.2222222222222222,
              "#7201a8"
             ],
             [
              0.3333333333333333,
              "#9c179e"
             ],
             [
              0.4444444444444444,
              "#bd3786"
             ],
             [
              0.5555555555555556,
              "#d8576b"
             ],
             [
              0.6666666666666666,
              "#ed7953"
             ],
             [
              0.7777777777777778,
              "#fb9f3a"
             ],
             [
              0.8888888888888888,
              "#fdca26"
             ],
             [
              1,
              "#f0f921"
             ]
            ],
            "type": "contour"
           }
          ],
          "contourcarpet": [
           {
            "colorbar": {
             "outlinewidth": 0,
             "ticks": ""
            },
            "type": "contourcarpet"
           }
          ],
          "heatmap": [
           {
            "colorbar": {
             "outlinewidth": 0,
             "ticks": ""
            },
            "colorscale": [
             [
              0,
              "#0d0887"
             ],
             [
              0.1111111111111111,
              "#46039f"
             ],
             [
              0.2222222222222222,
              "#7201a8"
             ],
             [
              0.3333333333333333,
              "#9c179e"
             ],
             [
              0.4444444444444444,
              "#bd3786"
             ],
             [
              0.5555555555555556,
              "#d8576b"
             ],
             [
              0.6666666666666666,
              "#ed7953"
             ],
             [
              0.7777777777777778,
              "#fb9f3a"
             ],
             [
              0.8888888888888888,
              "#fdca26"
             ],
             [
              1,
              "#f0f921"
             ]
            ],
            "type": "heatmap"
           }
          ],
          "heatmapgl": [
           {
            "colorbar": {
             "outlinewidth": 0,
             "ticks": ""
            },
            "colorscale": [
             [
              0,
              "#0d0887"
             ],
             [
              0.1111111111111111,
              "#46039f"
             ],
             [
              0.2222222222222222,
              "#7201a8"
             ],
             [
              0.3333333333333333,
              "#9c179e"
             ],
             [
              0.4444444444444444,
              "#bd3786"
             ],
             [
              0.5555555555555556,
              "#d8576b"
             ],
             [
              0.6666666666666666,
              "#ed7953"
             ],
             [
              0.7777777777777778,
              "#fb9f3a"
             ],
             [
              0.8888888888888888,
              "#fdca26"
             ],
             [
              1,
              "#f0f921"
             ]
            ],
            "type": "heatmapgl"
           }
          ],
          "histogram": [
           {
            "marker": {
             "pattern": {
              "fillmode": "overlay",
              "size": 10,
              "solidity": 0.2
             }
            },
            "type": "histogram"
           }
          ],
          "histogram2d": [
           {
            "colorbar": {
             "outlinewidth": 0,
             "ticks": ""
            },
            "colorscale": [
             [
              0,
              "#0d0887"
             ],
             [
              0.1111111111111111,
              "#46039f"
             ],
             [
              0.2222222222222222,
              "#7201a8"
             ],
             [
              0.3333333333333333,
              "#9c179e"
             ],
             [
              0.4444444444444444,
              "#bd3786"
             ],
             [
              0.5555555555555556,
              "#d8576b"
             ],
             [
              0.6666666666666666,
              "#ed7953"
             ],
             [
              0.7777777777777778,
              "#fb9f3a"
             ],
             [
              0.8888888888888888,
              "#fdca26"
             ],
             [
              1,
              "#f0f921"
             ]
            ],
            "type": "histogram2d"
           }
          ],
          "histogram2dcontour": [
           {
            "colorbar": {
             "outlinewidth": 0,
             "ticks": ""
            },
            "colorscale": [
             [
              0,
              "#0d0887"
             ],
             [
              0.1111111111111111,
              "#46039f"
             ],
             [
              0.2222222222222222,
              "#7201a8"
             ],
             [
              0.3333333333333333,
              "#9c179e"
             ],
             [
              0.4444444444444444,
              "#bd3786"
             ],
             [
              0.5555555555555556,
              "#d8576b"
             ],
             [
              0.6666666666666666,
              "#ed7953"
             ],
             [
              0.7777777777777778,
              "#fb9f3a"
             ],
             [
              0.8888888888888888,
              "#fdca26"
             ],
             [
              1,
              "#f0f921"
             ]
            ],
            "type": "histogram2dcontour"
           }
          ],
          "mesh3d": [
           {
            "colorbar": {
             "outlinewidth": 0,
             "ticks": ""
            },
            "type": "mesh3d"
           }
          ],
          "parcoords": [
           {
            "line": {
             "colorbar": {
              "outlinewidth": 0,
              "ticks": ""
             }
            },
            "type": "parcoords"
           }
          ],
          "pie": [
           {
            "automargin": true,
            "type": "pie"
           }
          ],
          "scatter": [
           {
            "fillpattern": {
             "fillmode": "overlay",
             "size": 10,
             "solidity": 0.2
            },
            "type": "scatter"
           }
          ],
          "scatter3d": [
           {
            "line": {
             "colorbar": {
              "outlinewidth": 0,
              "ticks": ""
             }
            },
            "marker": {
             "colorbar": {
              "outlinewidth": 0,
              "ticks": ""
             }
            },
            "type": "scatter3d"
           }
          ],
          "scattercarpet": [
           {
            "marker": {
             "colorbar": {
              "outlinewidth": 0,
              "ticks": ""
             }
            },
            "type": "scattercarpet"
           }
          ],
          "scattergeo": [
           {
            "marker": {
             "colorbar": {
              "outlinewidth": 0,
              "ticks": ""
             }
            },
            "type": "scattergeo"
           }
          ],
          "scattergl": [
           {
            "marker": {
             "colorbar": {
              "outlinewidth": 0,
              "ticks": ""
             }
            },
            "type": "scattergl"
           }
          ],
          "scattermapbox": [
           {
            "marker": {
             "colorbar": {
              "outlinewidth": 0,
              "ticks": ""
             }
            },
            "type": "scattermapbox"
           }
          ],
          "scatterpolar": [
           {
            "marker": {
             "colorbar": {
              "outlinewidth": 0,
              "ticks": ""
             }
            },
            "type": "scatterpolar"
           }
          ],
          "scatterpolargl": [
           {
            "marker": {
             "colorbar": {
              "outlinewidth": 0,
              "ticks": ""
             }
            },
            "type": "scatterpolargl"
           }
          ],
          "scatterternary": [
           {
            "marker": {
             "colorbar": {
              "outlinewidth": 0,
              "ticks": ""
             }
            },
            "type": "scatterternary"
           }
          ],
          "surface": [
           {
            "colorbar": {
             "outlinewidth": 0,
             "ticks": ""
            },
            "colorscale": [
             [
              0,
              "#0d0887"
             ],
             [
              0.1111111111111111,
              "#46039f"
             ],
             [
              0.2222222222222222,
              "#7201a8"
             ],
             [
              0.3333333333333333,
              "#9c179e"
             ],
             [
              0.4444444444444444,
              "#bd3786"
             ],
             [
              0.5555555555555556,
              "#d8576b"
             ],
             [
              0.6666666666666666,
              "#ed7953"
             ],
             [
              0.7777777777777778,
              "#fb9f3a"
             ],
             [
              0.8888888888888888,
              "#fdca26"
             ],
             [
              1,
              "#f0f921"
             ]
            ],
            "type": "surface"
           }
          ],
          "table": [
           {
            "cells": {
             "fill": {
              "color": "#EBF0F8"
             },
             "line": {
              "color": "white"
             }
            },
            "header": {
             "fill": {
              "color": "#C8D4E3"
             },
             "line": {
              "color": "white"
             }
            },
            "type": "table"
           }
          ]
         },
         "layout": {
          "annotationdefaults": {
           "arrowcolor": "#2a3f5f",
           "arrowhead": 0,
           "arrowwidth": 1
          },
          "autotypenumbers": "strict",
          "coloraxis": {
           "colorbar": {
            "outlinewidth": 0,
            "ticks": ""
           }
          },
          "colorscale": {
           "diverging": [
            [
             0,
             "#8e0152"
            ],
            [
             0.1,
             "#c51b7d"
            ],
            [
             0.2,
             "#de77ae"
            ],
            [
             0.3,
             "#f1b6da"
            ],
            [
             0.4,
             "#fde0ef"
            ],
            [
             0.5,
             "#f7f7f7"
            ],
            [
             0.6,
             "#e6f5d0"
            ],
            [
             0.7,
             "#b8e186"
            ],
            [
             0.8,
             "#7fbc41"
            ],
            [
             0.9,
             "#4d9221"
            ],
            [
             1,
             "#276419"
            ]
           ],
           "sequential": [
            [
             0,
             "#0d0887"
            ],
            [
             0.1111111111111111,
             "#46039f"
            ],
            [
             0.2222222222222222,
             "#7201a8"
            ],
            [
             0.3333333333333333,
             "#9c179e"
            ],
            [
             0.4444444444444444,
             "#bd3786"
            ],
            [
             0.5555555555555556,
             "#d8576b"
            ],
            [
             0.6666666666666666,
             "#ed7953"
            ],
            [
             0.7777777777777778,
             "#fb9f3a"
            ],
            [
             0.8888888888888888,
             "#fdca26"
            ],
            [
             1,
             "#f0f921"
            ]
           ],
           "sequentialminus": [
            [
             0,
             "#0d0887"
            ],
            [
             0.1111111111111111,
             "#46039f"
            ],
            [
             0.2222222222222222,
             "#7201a8"
            ],
            [
             0.3333333333333333,
             "#9c179e"
            ],
            [
             0.4444444444444444,
             "#bd3786"
            ],
            [
             0.5555555555555556,
             "#d8576b"
            ],
            [
             0.6666666666666666,
             "#ed7953"
            ],
            [
             0.7777777777777778,
             "#fb9f3a"
            ],
            [
             0.8888888888888888,
             "#fdca26"
            ],
            [
             1,
             "#f0f921"
            ]
           ]
          },
          "colorway": [
           "#636efa",
           "#EF553B",
           "#00cc96",
           "#ab63fa",
           "#FFA15A",
           "#19d3f3",
           "#FF6692",
           "#B6E880",
           "#FF97FF",
           "#FECB52"
          ],
          "font": {
           "color": "#2a3f5f"
          },
          "geo": {
           "bgcolor": "white",
           "lakecolor": "white",
           "landcolor": "#E5ECF6",
           "showlakes": true,
           "showland": true,
           "subunitcolor": "white"
          },
          "hoverlabel": {
           "align": "left"
          },
          "hovermode": "closest",
          "mapbox": {
           "style": "light"
          },
          "paper_bgcolor": "white",
          "plot_bgcolor": "#E5ECF6",
          "polar": {
           "angularaxis": {
            "gridcolor": "white",
            "linecolor": "white",
            "ticks": ""
           },
           "bgcolor": "#E5ECF6",
           "radialaxis": {
            "gridcolor": "white",
            "linecolor": "white",
            "ticks": ""
           }
          },
          "scene": {
           "xaxis": {
            "backgroundcolor": "#E5ECF6",
            "gridcolor": "white",
            "gridwidth": 2,
            "linecolor": "white",
            "showbackground": true,
            "ticks": "",
            "zerolinecolor": "white"
           },
           "yaxis": {
            "backgroundcolor": "#E5ECF6",
            "gridcolor": "white",
            "gridwidth": 2,
            "linecolor": "white",
            "showbackground": true,
            "ticks": "",
            "zerolinecolor": "white"
           },
           "zaxis": {
            "backgroundcolor": "#E5ECF6",
            "gridcolor": "white",
            "gridwidth": 2,
            "linecolor": "white",
            "showbackground": true,
            "ticks": "",
            "zerolinecolor": "white"
           }
          },
          "shapedefaults": {
           "line": {
            "color": "#2a3f5f"
           }
          },
          "ternary": {
           "aaxis": {
            "gridcolor": "white",
            "linecolor": "white",
            "ticks": ""
           },
           "baxis": {
            "gridcolor": "white",
            "linecolor": "white",
            "ticks": ""
           },
           "bgcolor": "#E5ECF6",
           "caxis": {
            "gridcolor": "white",
            "linecolor": "white",
            "ticks": ""
           }
          },
          "title": {
           "x": 0.05
          },
          "xaxis": {
           "automargin": true,
           "gridcolor": "white",
           "linecolor": "white",
           "ticks": "",
           "title": {
            "standoff": 15
           },
           "zerolinecolor": "white",
           "zerolinewidth": 2
          },
          "yaxis": {
           "automargin": true,
           "gridcolor": "white",
           "linecolor": "white",
           "ticks": "",
           "title": {
            "standoff": 15
           },
           "zerolinecolor": "white",
           "zerolinewidth": 2
          }
         }
        },
        "title": {
         "text": "Distribution of Poses"
        }
       }
      }
     },
     "metadata": {},
     "output_type": "display_data"
    }
   ],
   "source": [
    "# Visualizing it via Graphs\n",
    "class_names = sorted(os.listdir(image_path))\n",
    "class_distribution = [len(os.listdir(image_path + f\"/{name}\")) for name in class_names]\n",
    "\n",
    "# Plot the pie chart\n",
    "pi_figure = px.pie(names=class_names, values = class_distribution, title='Distribution of Poses')\n",
    "pi_figure.show()"
   ]
  },
  {
   "cell_type": "code",
   "execution_count": 25,
   "metadata": {},
   "outputs": [
    {
     "data": {
      "application/vnd.plotly.v1+json": {
       "config": {
        "plotlyServerURL": "https://plot.ly"
       },
       "data": [
        {
         "alignmentgroup": "True",
         "bingroup": "x",
         "histfunc": "sum",
         "hovertemplate": "color=Adho Mukha Svanasana<br>x=%{x}<br>sum of y=%{y}<extra></extra>",
         "legendgroup": "Adho Mukha Svanasana",
         "marker": {
          "color": "#636efa",
          "pattern": {
           "shape": ""
          }
         },
         "name": "Adho Mukha Svanasana",
         "offsetgroup": "Adho Mukha Svanasana",
         "orientation": "v",
         "showlegend": true,
         "type": "histogram",
         "x": [
          "Adho Mukha Svanasana"
         ],
         "xaxis": "x",
         "y": [
          74
         ],
         "yaxis": "y"
        },
        {
         "alignmentgroup": "True",
         "bingroup": "x",
         "histfunc": "sum",
         "hovertemplate": "color=Adho Mukha Vrksasana<br>x=%{x}<br>sum of y=%{y}<extra></extra>",
         "legendgroup": "Adho Mukha Vrksasana",
         "marker": {
          "color": "#EF553B",
          "pattern": {
           "shape": ""
          }
         },
         "name": "Adho Mukha Vrksasana",
         "offsetgroup": "Adho Mukha Vrksasana",
         "orientation": "v",
         "showlegend": true,
         "type": "histogram",
         "x": [
          "Adho Mukha Vrksasana"
         ],
         "xaxis": "x",
         "y": [
          65
         ],
         "yaxis": "y"
        },
        {
         "alignmentgroup": "True",
         "bingroup": "x",
         "histfunc": "sum",
         "hovertemplate": "color=Alanasana<br>x=%{x}<br>sum of y=%{y}<extra></extra>",
         "legendgroup": "Alanasana",
         "marker": {
          "color": "#00cc96",
          "pattern": {
           "shape": ""
          }
         },
         "name": "Alanasana",
         "offsetgroup": "Alanasana",
         "orientation": "v",
         "showlegend": true,
         "type": "histogram",
         "x": [
          "Alanasana"
         ],
         "xaxis": "x",
         "y": [
          18
         ],
         "yaxis": "y"
        },
        {
         "alignmentgroup": "True",
         "bingroup": "x",
         "histfunc": "sum",
         "hovertemplate": "color=Anjaneyasana<br>x=%{x}<br>sum of y=%{y}<extra></extra>",
         "legendgroup": "Anjaneyasana",
         "marker": {
          "color": "#ab63fa",
          "pattern": {
           "shape": ""
          }
         },
         "name": "Anjaneyasana",
         "offsetgroup": "Anjaneyasana",
         "orientation": "v",
         "showlegend": true,
         "type": "histogram",
         "x": [
          "Anjaneyasana"
         ],
         "xaxis": "x",
         "y": [
          71
         ],
         "yaxis": "y"
        },
        {
         "alignmentgroup": "True",
         "bingroup": "x",
         "histfunc": "sum",
         "hovertemplate": "color=Ardha Chandrasana<br>x=%{x}<br>sum of y=%{y}<extra></extra>",
         "legendgroup": "Ardha Chandrasana",
         "marker": {
          "color": "#FFA15A",
          "pattern": {
           "shape": ""
          }
         },
         "name": "Ardha Chandrasana",
         "offsetgroup": "Ardha Chandrasana",
         "orientation": "v",
         "showlegend": true,
         "type": "histogram",
         "x": [
          "Ardha Chandrasana"
         ],
         "xaxis": "x",
         "y": [
          59
         ],
         "yaxis": "y"
        },
        {
         "alignmentgroup": "True",
         "bingroup": "x",
         "histfunc": "sum",
         "hovertemplate": "color=Ardha Matsyendrasana<br>x=%{x}<br>sum of y=%{y}<extra></extra>",
         "legendgroup": "Ardha Matsyendrasana",
         "marker": {
          "color": "#19d3f3",
          "pattern": {
           "shape": ""
          }
         },
         "name": "Ardha Matsyendrasana",
         "offsetgroup": "Ardha Matsyendrasana",
         "orientation": "v",
         "showlegend": true,
         "type": "histogram",
         "x": [
          "Ardha Matsyendrasana"
         ],
         "xaxis": "x",
         "y": [
          96
         ],
         "yaxis": "y"
        },
        {
         "alignmentgroup": "True",
         "bingroup": "x",
         "histfunc": "sum",
         "hovertemplate": "color=Ardha Navasana<br>x=%{x}<br>sum of y=%{y}<extra></extra>",
         "legendgroup": "Ardha Navasana",
         "marker": {
          "color": "#FF6692",
          "pattern": {
           "shape": ""
          }
         },
         "name": "Ardha Navasana",
         "offsetgroup": "Ardha Navasana",
         "orientation": "v",
         "showlegend": true,
         "type": "histogram",
         "x": [
          "Ardha Navasana"
         ],
         "xaxis": "x",
         "y": [
          13
         ],
         "yaxis": "y"
        },
        {
         "alignmentgroup": "True",
         "bingroup": "x",
         "histfunc": "sum",
         "hovertemplate": "color=Ardha Pincha Mayurasana<br>x=%{x}<br>sum of y=%{y}<extra></extra>",
         "legendgroup": "Ardha Pincha Mayurasana",
         "marker": {
          "color": "#B6E880",
          "pattern": {
           "shape": ""
          }
         },
         "name": "Ardha Pincha Mayurasana",
         "offsetgroup": "Ardha Pincha Mayurasana",
         "orientation": "v",
         "showlegend": true,
         "type": "histogram",
         "x": [
          "Ardha Pincha Mayurasana"
         ],
         "xaxis": "x",
         "y": [
          54
         ],
         "yaxis": "y"
        },
        {
         "alignmentgroup": "True",
         "bingroup": "x",
         "histfunc": "sum",
         "hovertemplate": "color=Ashta Chandrasana<br>x=%{x}<br>sum of y=%{y}<extra></extra>",
         "legendgroup": "Ashta Chandrasana",
         "marker": {
          "color": "#FF97FF",
          "pattern": {
           "shape": ""
          }
         },
         "name": "Ashta Chandrasana",
         "offsetgroup": "Ashta Chandrasana",
         "orientation": "v",
         "showlegend": true,
         "type": "histogram",
         "x": [
          "Ashta Chandrasana"
         ],
         "xaxis": "x",
         "y": [
          12
         ],
         "yaxis": "y"
        },
        {
         "alignmentgroup": "True",
         "bingroup": "x",
         "histfunc": "sum",
         "hovertemplate": "color=Baddha Konasana<br>x=%{x}<br>sum of y=%{y}<extra></extra>",
         "legendgroup": "Baddha Konasana",
         "marker": {
          "color": "#FECB52",
          "pattern": {
           "shape": ""
          }
         },
         "name": "Baddha Konasana",
         "offsetgroup": "Baddha Konasana",
         "orientation": "v",
         "showlegend": true,
         "type": "histogram",
         "x": [
          "Baddha Konasana"
         ],
         "xaxis": "x",
         "y": [
          81
         ],
         "yaxis": "y"
        },
        {
         "alignmentgroup": "True",
         "bingroup": "x",
         "histfunc": "sum",
         "hovertemplate": "color=Bakasana<br>x=%{x}<br>sum of y=%{y}<extra></extra>",
         "legendgroup": "Bakasana",
         "marker": {
          "color": "#636efa",
          "pattern": {
           "shape": ""
          }
         },
         "name": "Bakasana",
         "offsetgroup": "Bakasana",
         "orientation": "v",
         "showlegend": true,
         "type": "histogram",
         "x": [
          "Bakasana"
         ],
         "xaxis": "x",
         "y": [
          84
         ],
         "yaxis": "y"
        },
        {
         "alignmentgroup": "True",
         "bingroup": "x",
         "histfunc": "sum",
         "hovertemplate": "color=Balasana<br>x=%{x}<br>sum of y=%{y}<extra></extra>",
         "legendgroup": "Balasana",
         "marker": {
          "color": "#EF553B",
          "pattern": {
           "shape": ""
          }
         },
         "name": "Balasana",
         "offsetgroup": "Balasana",
         "orientation": "v",
         "showlegend": true,
         "type": "histogram",
         "x": [
          "Balasana"
         ],
         "xaxis": "x",
         "y": [
          79
         ],
         "yaxis": "y"
        },
        {
         "alignmentgroup": "True",
         "bingroup": "x",
         "histfunc": "sum",
         "hovertemplate": "color=Bitilasana<br>x=%{x}<br>sum of y=%{y}<extra></extra>",
         "legendgroup": "Bitilasana",
         "marker": {
          "color": "#00cc96",
          "pattern": {
           "shape": ""
          }
         },
         "name": "Bitilasana",
         "offsetgroup": "Bitilasana",
         "orientation": "v",
         "showlegend": true,
         "type": "histogram",
         "x": [
          "Bitilasana"
         ],
         "xaxis": "x",
         "y": [
          94
         ],
         "yaxis": "y"
        },
        {
         "alignmentgroup": "True",
         "bingroup": "x",
         "histfunc": "sum",
         "hovertemplate": "color=Camatkarasana<br>x=%{x}<br>sum of y=%{y}<extra></extra>",
         "legendgroup": "Camatkarasana",
         "marker": {
          "color": "#ab63fa",
          "pattern": {
           "shape": ""
          }
         },
         "name": "Camatkarasana",
         "offsetgroup": "Camatkarasana",
         "orientation": "v",
         "showlegend": true,
         "type": "histogram",
         "x": [
          "Camatkarasana"
         ],
         "xaxis": "x",
         "y": [
          62
         ],
         "yaxis": "y"
        },
        {
         "alignmentgroup": "True",
         "bingroup": "x",
         "histfunc": "sum",
         "hovertemplate": "color=Dhanurasana<br>x=%{x}<br>sum of y=%{y}<extra></extra>",
         "legendgroup": "Dhanurasana",
         "marker": {
          "color": "#FFA15A",
          "pattern": {
           "shape": ""
          }
         },
         "name": "Dhanurasana",
         "offsetgroup": "Dhanurasana",
         "orientation": "v",
         "showlegend": true,
         "type": "histogram",
         "x": [
          "Dhanurasana"
         ],
         "xaxis": "x",
         "y": [
          54
         ],
         "yaxis": "y"
        },
        {
         "alignmentgroup": "True",
         "bingroup": "x",
         "histfunc": "sum",
         "hovertemplate": "color=Eka Pada Rajakapotasana<br>x=%{x}<br>sum of y=%{y}<extra></extra>",
         "legendgroup": "Eka Pada Rajakapotasana",
         "marker": {
          "color": "#19d3f3",
          "pattern": {
           "shape": ""
          }
         },
         "name": "Eka Pada Rajakapotasana",
         "offsetgroup": "Eka Pada Rajakapotasana",
         "orientation": "v",
         "showlegend": true,
         "type": "histogram",
         "x": [
          "Eka Pada Rajakapotasana"
         ],
         "xaxis": "x",
         "y": [
          53
         ],
         "yaxis": "y"
        },
        {
         "alignmentgroup": "True",
         "bingroup": "x",
         "histfunc": "sum",
         "hovertemplate": "color=Garudasana<br>x=%{x}<br>sum of y=%{y}<extra></extra>",
         "legendgroup": "Garudasana",
         "marker": {
          "color": "#FF6692",
          "pattern": {
           "shape": ""
          }
         },
         "name": "Garudasana",
         "offsetgroup": "Garudasana",
         "orientation": "v",
         "showlegend": true,
         "type": "histogram",
         "x": [
          "Garudasana"
         ],
         "xaxis": "x",
         "y": [
          85
         ],
         "yaxis": "y"
        },
        {
         "alignmentgroup": "True",
         "bingroup": "x",
         "histfunc": "sum",
         "hovertemplate": "color=Halasana<br>x=%{x}<br>sum of y=%{y}<extra></extra>",
         "legendgroup": "Halasana",
         "marker": {
          "color": "#B6E880",
          "pattern": {
           "shape": ""
          }
         },
         "name": "Halasana",
         "offsetgroup": "Halasana",
         "orientation": "v",
         "showlegend": true,
         "type": "histogram",
         "x": [
          "Halasana"
         ],
         "xaxis": "x",
         "y": [
          71
         ],
         "yaxis": "y"
        },
        {
         "alignmentgroup": "True",
         "bingroup": "x",
         "histfunc": "sum",
         "hovertemplate": "color=Hanumanasana<br>x=%{x}<br>sum of y=%{y}<extra></extra>",
         "legendgroup": "Hanumanasana",
         "marker": {
          "color": "#FF97FF",
          "pattern": {
           "shape": ""
          }
         },
         "name": "Hanumanasana",
         "offsetgroup": "Hanumanasana",
         "orientation": "v",
         "showlegend": true,
         "type": "histogram",
         "x": [
          "Hanumanasana"
         ],
         "xaxis": "x",
         "y": [
          41
         ],
         "yaxis": "y"
        },
        {
         "alignmentgroup": "True",
         "bingroup": "x",
         "histfunc": "sum",
         "hovertemplate": "color=Malasana<br>x=%{x}<br>sum of y=%{y}<extra></extra>",
         "legendgroup": "Malasana",
         "marker": {
          "color": "#FECB52",
          "pattern": {
           "shape": ""
          }
         },
         "name": "Malasana",
         "offsetgroup": "Malasana",
         "orientation": "v",
         "showlegend": true,
         "type": "histogram",
         "x": [
          "Malasana"
         ],
         "xaxis": "x",
         "y": [
          73
         ],
         "yaxis": "y"
        },
        {
         "alignmentgroup": "True",
         "bingroup": "x",
         "histfunc": "sum",
         "hovertemplate": "color=Marjaryasana<br>x=%{x}<br>sum of y=%{y}<extra></extra>",
         "legendgroup": "Marjaryasana",
         "marker": {
          "color": "#636efa",
          "pattern": {
           "shape": ""
          }
         },
         "name": "Marjaryasana",
         "offsetgroup": "Marjaryasana",
         "orientation": "v",
         "showlegend": true,
         "type": "histogram",
         "x": [
          "Marjaryasana"
         ],
         "xaxis": "x",
         "y": [
          56
         ],
         "yaxis": "y"
        },
        {
         "alignmentgroup": "True",
         "bingroup": "x",
         "histfunc": "sum",
         "hovertemplate": "color=Navasana<br>x=%{x}<br>sum of y=%{y}<extra></extra>",
         "legendgroup": "Navasana",
         "marker": {
          "color": "#EF553B",
          "pattern": {
           "shape": ""
          }
         },
         "name": "Navasana",
         "offsetgroup": "Navasana",
         "orientation": "v",
         "showlegend": true,
         "type": "histogram",
         "x": [
          "Navasana"
         ],
         "xaxis": "x",
         "y": [
          18
         ],
         "yaxis": "y"
        },
        {
         "alignmentgroup": "True",
         "bingroup": "x",
         "histfunc": "sum",
         "hovertemplate": "color=Padmasana<br>x=%{x}<br>sum of y=%{y}<extra></extra>",
         "legendgroup": "Padmasana",
         "marker": {
          "color": "#00cc96",
          "pattern": {
           "shape": ""
          }
         },
         "name": "Padmasana",
         "offsetgroup": "Padmasana",
         "orientation": "v",
         "showlegend": true,
         "type": "histogram",
         "x": [
          "Padmasana"
         ],
         "xaxis": "x",
         "y": [
          77
         ],
         "yaxis": "y"
        },
        {
         "alignmentgroup": "True",
         "bingroup": "x",
         "histfunc": "sum",
         "hovertemplate": "color=Parsva Virabhadrasana<br>x=%{x}<br>sum of y=%{y}<extra></extra>",
         "legendgroup": "Parsva Virabhadrasana",
         "marker": {
          "color": "#ab63fa",
          "pattern": {
           "shape": ""
          }
         },
         "name": "Parsva Virabhadrasana",
         "offsetgroup": "Parsva Virabhadrasana",
         "orientation": "v",
         "showlegend": true,
         "type": "histogram",
         "x": [
          "Parsva Virabhadrasana"
         ],
         "xaxis": "x",
         "y": [
          14
         ],
         "yaxis": "y"
        },
        {
         "alignmentgroup": "True",
         "bingroup": "x",
         "histfunc": "sum",
         "hovertemplate": "color=Parsvottanasana<br>x=%{x}<br>sum of y=%{y}<extra></extra>",
         "legendgroup": "Parsvottanasana",
         "marker": {
          "color": "#FFA15A",
          "pattern": {
           "shape": ""
          }
         },
         "name": "Parsvottanasana",
         "offsetgroup": "Parsvottanasana",
         "orientation": "v",
         "showlegend": true,
         "type": "histogram",
         "x": [
          "Parsvottanasana"
         ],
         "xaxis": "x",
         "y": [
          43
         ],
         "yaxis": "y"
        },
        {
         "alignmentgroup": "True",
         "bingroup": "x",
         "histfunc": "sum",
         "hovertemplate": "color=Paschimottanasana<br>x=%{x}<br>sum of y=%{y}<extra></extra>",
         "legendgroup": "Paschimottanasana",
         "marker": {
          "color": "#19d3f3",
          "pattern": {
           "shape": ""
          }
         },
         "name": "Paschimottanasana",
         "offsetgroup": "Paschimottanasana",
         "orientation": "v",
         "showlegend": true,
         "type": "histogram",
         "x": [
          "Paschimottanasana"
         ],
         "xaxis": "x",
         "y": [
          62
         ],
         "yaxis": "y"
        },
        {
         "alignmentgroup": "True",
         "bingroup": "x",
         "histfunc": "sum",
         "hovertemplate": "color=Phalakasana<br>x=%{x}<br>sum of y=%{y}<extra></extra>",
         "legendgroup": "Phalakasana",
         "marker": {
          "color": "#FF6692",
          "pattern": {
           "shape": ""
          }
         },
         "name": "Phalakasana",
         "offsetgroup": "Phalakasana",
         "orientation": "v",
         "showlegend": true,
         "type": "histogram",
         "x": [
          "Phalakasana"
         ],
         "xaxis": "x",
         "y": [
          66
         ],
         "yaxis": "y"
        },
        {
         "alignmentgroup": "True",
         "bingroup": "x",
         "histfunc": "sum",
         "hovertemplate": "color=Pincha Mayurasana<br>x=%{x}<br>sum of y=%{y}<extra></extra>",
         "legendgroup": "Pincha Mayurasana",
         "marker": {
          "color": "#B6E880",
          "pattern": {
           "shape": ""
          }
         },
         "name": "Pincha Mayurasana",
         "offsetgroup": "Pincha Mayurasana",
         "orientation": "v",
         "showlegend": true,
         "type": "histogram",
         "x": [
          "Pincha Mayurasana"
         ],
         "xaxis": "x",
         "y": [
          43
         ],
         "yaxis": "y"
        },
        {
         "alignmentgroup": "True",
         "bingroup": "x",
         "histfunc": "sum",
         "hovertemplate": "color=Salamba Bhujangasana<br>x=%{x}<br>sum of y=%{y}<extra></extra>",
         "legendgroup": "Salamba Bhujangasana",
         "marker": {
          "color": "#FF97FF",
          "pattern": {
           "shape": ""
          }
         },
         "name": "Salamba Bhujangasana",
         "offsetgroup": "Salamba Bhujangasana",
         "orientation": "v",
         "showlegend": true,
         "type": "histogram",
         "x": [
          "Salamba Bhujangasana"
         ],
         "xaxis": "x",
         "y": [
          62
         ],
         "yaxis": "y"
        },
        {
         "alignmentgroup": "True",
         "bingroup": "x",
         "histfunc": "sum",
         "hovertemplate": "color=Salamba Sarvangasana<br>x=%{x}<br>sum of y=%{y}<extra></extra>",
         "legendgroup": "Salamba Sarvangasana",
         "marker": {
          "color": "#FECB52",
          "pattern": {
           "shape": ""
          }
         },
         "name": "Salamba Sarvangasana",
         "offsetgroup": "Salamba Sarvangasana",
         "orientation": "v",
         "showlegend": true,
         "type": "histogram",
         "x": [
          "Salamba Sarvangasana"
         ],
         "xaxis": "x",
         "y": [
          73
         ],
         "yaxis": "y"
        },
        {
         "alignmentgroup": "True",
         "bingroup": "x",
         "histfunc": "sum",
         "hovertemplate": "color=Setu Bandha Sarvangasana<br>x=%{x}<br>sum of y=%{y}<extra></extra>",
         "legendgroup": "Setu Bandha Sarvangasana",
         "marker": {
          "color": "#636efa",
          "pattern": {
           "shape": ""
          }
         },
         "name": "Setu Bandha Sarvangasana",
         "offsetgroup": "Setu Bandha Sarvangasana",
         "orientation": "v",
         "showlegend": true,
         "type": "histogram",
         "x": [
          "Setu Bandha Sarvangasana"
         ],
         "xaxis": "x",
         "y": [
          66
         ],
         "yaxis": "y"
        },
        {
         "alignmentgroup": "True",
         "bingroup": "x",
         "histfunc": "sum",
         "hovertemplate": "color=Sivasana<br>x=%{x}<br>sum of y=%{y}<extra></extra>",
         "legendgroup": "Sivasana",
         "marker": {
          "color": "#EF553B",
          "pattern": {
           "shape": ""
          }
         },
         "name": "Sivasana",
         "offsetgroup": "Sivasana",
         "orientation": "v",
         "showlegend": true,
         "type": "histogram",
         "x": [
          "Sivasana"
         ],
         "xaxis": "x",
         "y": [
          20
         ],
         "yaxis": "y"
        },
        {
         "alignmentgroup": "True",
         "bingroup": "x",
         "histfunc": "sum",
         "hovertemplate": "color=Supta Kapotasana<br>x=%{x}<br>sum of y=%{y}<extra></extra>",
         "legendgroup": "Supta Kapotasana",
         "marker": {
          "color": "#00cc96",
          "pattern": {
           "shape": ""
          }
         },
         "name": "Supta Kapotasana",
         "offsetgroup": "Supta Kapotasana",
         "orientation": "v",
         "showlegend": true,
         "type": "histogram",
         "x": [
          "Supta Kapotasana"
         ],
         "xaxis": "x",
         "y": [
          13
         ],
         "yaxis": "y"
        },
        {
         "alignmentgroup": "True",
         "bingroup": "x",
         "histfunc": "sum",
         "hovertemplate": "color=Trikonasana<br>x=%{x}<br>sum of y=%{y}<extra></extra>",
         "legendgroup": "Trikonasana",
         "marker": {
          "color": "#ab63fa",
          "pattern": {
           "shape": ""
          }
         },
         "name": "Trikonasana",
         "offsetgroup": "Trikonasana",
         "orientation": "v",
         "showlegend": true,
         "type": "histogram",
         "x": [
          "Trikonasana"
         ],
         "xaxis": "x",
         "y": [
          23
         ],
         "yaxis": "y"
        },
        {
         "alignmentgroup": "True",
         "bingroup": "x",
         "histfunc": "sum",
         "hovertemplate": "color=Upavistha Konasana<br>x=%{x}<br>sum of y=%{y}<extra></extra>",
         "legendgroup": "Upavistha Konasana",
         "marker": {
          "color": "#FFA15A",
          "pattern": {
           "shape": ""
          }
         },
         "name": "Upavistha Konasana",
         "offsetgroup": "Upavistha Konasana",
         "orientation": "v",
         "showlegend": true,
         "type": "histogram",
         "x": [
          "Upavistha Konasana"
         ],
         "xaxis": "x",
         "y": [
          17
         ],
         "yaxis": "y"
        },
        {
         "alignmentgroup": "True",
         "bingroup": "x",
         "histfunc": "sum",
         "hovertemplate": "color=Urdhva Dhanurasana<br>x=%{x}<br>sum of y=%{y}<extra></extra>",
         "legendgroup": "Urdhva Dhanurasana",
         "marker": {
          "color": "#19d3f3",
          "pattern": {
           "shape": ""
          }
         },
         "name": "Urdhva Dhanurasana",
         "offsetgroup": "Urdhva Dhanurasana",
         "orientation": "v",
         "showlegend": true,
         "type": "histogram",
         "x": [
          "Urdhva Dhanurasana"
         ],
         "xaxis": "x",
         "y": [
          74
         ],
         "yaxis": "y"
        },
        {
         "alignmentgroup": "True",
         "bingroup": "x",
         "histfunc": "sum",
         "hovertemplate": "color=Urdhva Mukha Svsnssana<br>x=%{x}<br>sum of y=%{y}<extra></extra>",
         "legendgroup": "Urdhva Mukha Svsnssana",
         "marker": {
          "color": "#FF6692",
          "pattern": {
           "shape": ""
          }
         },
         "name": "Urdhva Mukha Svsnssana",
         "offsetgroup": "Urdhva Mukha Svsnssana",
         "orientation": "v",
         "showlegend": true,
         "type": "histogram",
         "x": [
          "Urdhva Mukha Svsnssana"
         ],
         "xaxis": "x",
         "y": [
          69
         ],
         "yaxis": "y"
        },
        {
         "alignmentgroup": "True",
         "bingroup": "x",
         "histfunc": "sum",
         "hovertemplate": "color=Ustrasana<br>x=%{x}<br>sum of y=%{y}<extra></extra>",
         "legendgroup": "Ustrasana",
         "marker": {
          "color": "#B6E880",
          "pattern": {
           "shape": ""
          }
         },
         "name": "Ustrasana",
         "offsetgroup": "Ustrasana",
         "orientation": "v",
         "showlegend": true,
         "type": "histogram",
         "x": [
          "Ustrasana"
         ],
         "xaxis": "x",
         "y": [
          96
         ],
         "yaxis": "y"
        },
        {
         "alignmentgroup": "True",
         "bingroup": "x",
         "histfunc": "sum",
         "hovertemplate": "color=Utkatasana<br>x=%{x}<br>sum of y=%{y}<extra></extra>",
         "legendgroup": "Utkatasana",
         "marker": {
          "color": "#FF97FF",
          "pattern": {
           "shape": ""
          }
         },
         "name": "Utkatasana",
         "offsetgroup": "Utkatasana",
         "orientation": "v",
         "showlegend": true,
         "type": "histogram",
         "x": [
          "Utkatasana"
         ],
         "xaxis": "x",
         "y": [
          81
         ],
         "yaxis": "y"
        },
        {
         "alignmentgroup": "True",
         "bingroup": "x",
         "histfunc": "sum",
         "hovertemplate": "color=Uttanasana<br>x=%{x}<br>sum of y=%{y}<extra></extra>",
         "legendgroup": "Uttanasana",
         "marker": {
          "color": "#FECB52",
          "pattern": {
           "shape": ""
          }
         },
         "name": "Uttanasana",
         "offsetgroup": "Uttanasana",
         "orientation": "v",
         "showlegend": true,
         "type": "histogram",
         "x": [
          "Uttanasana"
         ],
         "xaxis": "x",
         "y": [
          71
         ],
         "yaxis": "y"
        },
        {
         "alignmentgroup": "True",
         "bingroup": "x",
         "histfunc": "sum",
         "hovertemplate": "color=Utthita Hasta Padangusthasana<br>x=%{x}<br>sum of y=%{y}<extra></extra>",
         "legendgroup": "Utthita Hasta Padangusthasana",
         "marker": {
          "color": "#636efa",
          "pattern": {
           "shape": ""
          }
         },
         "name": "Utthita Hasta Padangusthasana",
         "offsetgroup": "Utthita Hasta Padangusthasana",
         "orientation": "v",
         "showlegend": true,
         "type": "histogram",
         "x": [
          "Utthita Hasta Padangusthasana"
         ],
         "xaxis": "x",
         "y": [
          64
         ],
         "yaxis": "y"
        },
        {
         "alignmentgroup": "True",
         "bingroup": "x",
         "histfunc": "sum",
         "hovertemplate": "color=Utthita Parsvakonasana<br>x=%{x}<br>sum of y=%{y}<extra></extra>",
         "legendgroup": "Utthita Parsvakonasana",
         "marker": {
          "color": "#EF553B",
          "pattern": {
           "shape": ""
          }
         },
         "name": "Utthita Parsvakonasana",
         "offsetgroup": "Utthita Parsvakonasana",
         "orientation": "v",
         "showlegend": true,
         "type": "histogram",
         "x": [
          "Utthita Parsvakonasana"
         ],
         "xaxis": "x",
         "y": [
          69
         ],
         "yaxis": "y"
        },
        {
         "alignmentgroup": "True",
         "bingroup": "x",
         "histfunc": "sum",
         "hovertemplate": "color=Vasisthasana<br>x=%{x}<br>sum of y=%{y}<extra></extra>",
         "legendgroup": "Vasisthasana",
         "marker": {
          "color": "#00cc96",
          "pattern": {
           "shape": ""
          }
         },
         "name": "Vasisthasana",
         "offsetgroup": "Vasisthasana",
         "orientation": "v",
         "showlegend": true,
         "type": "histogram",
         "x": [
          "Vasisthasana"
         ],
         "xaxis": "x",
         "y": [
          80
         ],
         "yaxis": "y"
        },
        {
         "alignmentgroup": "True",
         "bingroup": "x",
         "histfunc": "sum",
         "hovertemplate": "color=Virabhadrasana One<br>x=%{x}<br>sum of y=%{y}<extra></extra>",
         "legendgroup": "Virabhadrasana One",
         "marker": {
          "color": "#ab63fa",
          "pattern": {
           "shape": ""
          }
         },
         "name": "Virabhadrasana One",
         "offsetgroup": "Virabhadrasana One",
         "orientation": "v",
         "showlegend": true,
         "type": "histogram",
         "x": [
          "Virabhadrasana One"
         ],
         "xaxis": "x",
         "y": [
          63
         ],
         "yaxis": "y"
        },
        {
         "alignmentgroup": "True",
         "bingroup": "x",
         "histfunc": "sum",
         "hovertemplate": "color=Virabhadrasana Three<br>x=%{x}<br>sum of y=%{y}<extra></extra>",
         "legendgroup": "Virabhadrasana Three",
         "marker": {
          "color": "#FFA15A",
          "pattern": {
           "shape": ""
          }
         },
         "name": "Virabhadrasana Three",
         "offsetgroup": "Virabhadrasana Three",
         "orientation": "v",
         "showlegend": true,
         "type": "histogram",
         "x": [
          "Virabhadrasana Three"
         ],
         "xaxis": "x",
         "y": [
          69
         ],
         "yaxis": "y"
        },
        {
         "alignmentgroup": "True",
         "bingroup": "x",
         "histfunc": "sum",
         "hovertemplate": "color=Virabhadrasana Two<br>x=%{x}<br>sum of y=%{y}<extra></extra>",
         "legendgroup": "Virabhadrasana Two",
         "marker": {
          "color": "#19d3f3",
          "pattern": {
           "shape": ""
          }
         },
         "name": "Virabhadrasana Two",
         "offsetgroup": "Virabhadrasana Two",
         "orientation": "v",
         "showlegend": true,
         "type": "histogram",
         "x": [
          "Virabhadrasana Two"
         ],
         "xaxis": "x",
         "y": [
          60
         ],
         "yaxis": "y"
        },
        {
         "alignmentgroup": "True",
         "bingroup": "x",
         "histfunc": "sum",
         "hovertemplate": "color=Vrksasana<br>x=%{x}<br>sum of y=%{y}<extra></extra>",
         "legendgroup": "Vrksasana",
         "marker": {
          "color": "#FF6692",
          "pattern": {
           "shape": ""
          }
         },
         "name": "Vrksasana",
         "offsetgroup": "Vrksasana",
         "orientation": "v",
         "showlegend": true,
         "type": "histogram",
         "x": [
          "Vrksasana"
         ],
         "xaxis": "x",
         "y": [
          68
         ],
         "yaxis": "y"
        }
       ],
       "layout": {
        "barmode": "relative",
        "legend": {
         "title": {
          "text": "color"
         },
         "tracegroupgap": 0
        },
        "template": {
         "data": {
          "bar": [
           {
            "error_x": {
             "color": "#2a3f5f"
            },
            "error_y": {
             "color": "#2a3f5f"
            },
            "marker": {
             "line": {
              "color": "#E5ECF6",
              "width": 0.5
             },
             "pattern": {
              "fillmode": "overlay",
              "size": 10,
              "solidity": 0.2
             }
            },
            "type": "bar"
           }
          ],
          "barpolar": [
           {
            "marker": {
             "line": {
              "color": "#E5ECF6",
              "width": 0.5
             },
             "pattern": {
              "fillmode": "overlay",
              "size": 10,
              "solidity": 0.2
             }
            },
            "type": "barpolar"
           }
          ],
          "carpet": [
           {
            "aaxis": {
             "endlinecolor": "#2a3f5f",
             "gridcolor": "white",
             "linecolor": "white",
             "minorgridcolor": "white",
             "startlinecolor": "#2a3f5f"
            },
            "baxis": {
             "endlinecolor": "#2a3f5f",
             "gridcolor": "white",
             "linecolor": "white",
             "minorgridcolor": "white",
             "startlinecolor": "#2a3f5f"
            },
            "type": "carpet"
           }
          ],
          "choropleth": [
           {
            "colorbar": {
             "outlinewidth": 0,
             "ticks": ""
            },
            "type": "choropleth"
           }
          ],
          "contour": [
           {
            "colorbar": {
             "outlinewidth": 0,
             "ticks": ""
            },
            "colorscale": [
             [
              0,
              "#0d0887"
             ],
             [
              0.1111111111111111,
              "#46039f"
             ],
             [
              0.2222222222222222,
              "#7201a8"
             ],
             [
              0.3333333333333333,
              "#9c179e"
             ],
             [
              0.4444444444444444,
              "#bd3786"
             ],
             [
              0.5555555555555556,
              "#d8576b"
             ],
             [
              0.6666666666666666,
              "#ed7953"
             ],
             [
              0.7777777777777778,
              "#fb9f3a"
             ],
             [
              0.8888888888888888,
              "#fdca26"
             ],
             [
              1,
              "#f0f921"
             ]
            ],
            "type": "contour"
           }
          ],
          "contourcarpet": [
           {
            "colorbar": {
             "outlinewidth": 0,
             "ticks": ""
            },
            "type": "contourcarpet"
           }
          ],
          "heatmap": [
           {
            "colorbar": {
             "outlinewidth": 0,
             "ticks": ""
            },
            "colorscale": [
             [
              0,
              "#0d0887"
             ],
             [
              0.1111111111111111,
              "#46039f"
             ],
             [
              0.2222222222222222,
              "#7201a8"
             ],
             [
              0.3333333333333333,
              "#9c179e"
             ],
             [
              0.4444444444444444,
              "#bd3786"
             ],
             [
              0.5555555555555556,
              "#d8576b"
             ],
             [
              0.6666666666666666,
              "#ed7953"
             ],
             [
              0.7777777777777778,
              "#fb9f3a"
             ],
             [
              0.8888888888888888,
              "#fdca26"
             ],
             [
              1,
              "#f0f921"
             ]
            ],
            "type": "heatmap"
           }
          ],
          "heatmapgl": [
           {
            "colorbar": {
             "outlinewidth": 0,
             "ticks": ""
            },
            "colorscale": [
             [
              0,
              "#0d0887"
             ],
             [
              0.1111111111111111,
              "#46039f"
             ],
             [
              0.2222222222222222,
              "#7201a8"
             ],
             [
              0.3333333333333333,
              "#9c179e"
             ],
             [
              0.4444444444444444,
              "#bd3786"
             ],
             [
              0.5555555555555556,
              "#d8576b"
             ],
             [
              0.6666666666666666,
              "#ed7953"
             ],
             [
              0.7777777777777778,
              "#fb9f3a"
             ],
             [
              0.8888888888888888,
              "#fdca26"
             ],
             [
              1,
              "#f0f921"
             ]
            ],
            "type": "heatmapgl"
           }
          ],
          "histogram": [
           {
            "marker": {
             "pattern": {
              "fillmode": "overlay",
              "size": 10,
              "solidity": 0.2
             }
            },
            "type": "histogram"
           }
          ],
          "histogram2d": [
           {
            "colorbar": {
             "outlinewidth": 0,
             "ticks": ""
            },
            "colorscale": [
             [
              0,
              "#0d0887"
             ],
             [
              0.1111111111111111,
              "#46039f"
             ],
             [
              0.2222222222222222,
              "#7201a8"
             ],
             [
              0.3333333333333333,
              "#9c179e"
             ],
             [
              0.4444444444444444,
              "#bd3786"
             ],
             [
              0.5555555555555556,
              "#d8576b"
             ],
             [
              0.6666666666666666,
              "#ed7953"
             ],
             [
              0.7777777777777778,
              "#fb9f3a"
             ],
             [
              0.8888888888888888,
              "#fdca26"
             ],
             [
              1,
              "#f0f921"
             ]
            ],
            "type": "histogram2d"
           }
          ],
          "histogram2dcontour": [
           {
            "colorbar": {
             "outlinewidth": 0,
             "ticks": ""
            },
            "colorscale": [
             [
              0,
              "#0d0887"
             ],
             [
              0.1111111111111111,
              "#46039f"
             ],
             [
              0.2222222222222222,
              "#7201a8"
             ],
             [
              0.3333333333333333,
              "#9c179e"
             ],
             [
              0.4444444444444444,
              "#bd3786"
             ],
             [
              0.5555555555555556,
              "#d8576b"
             ],
             [
              0.6666666666666666,
              "#ed7953"
             ],
             [
              0.7777777777777778,
              "#fb9f3a"
             ],
             [
              0.8888888888888888,
              "#fdca26"
             ],
             [
              1,
              "#f0f921"
             ]
            ],
            "type": "histogram2dcontour"
           }
          ],
          "mesh3d": [
           {
            "colorbar": {
             "outlinewidth": 0,
             "ticks": ""
            },
            "type": "mesh3d"
           }
          ],
          "parcoords": [
           {
            "line": {
             "colorbar": {
              "outlinewidth": 0,
              "ticks": ""
             }
            },
            "type": "parcoords"
           }
          ],
          "pie": [
           {
            "automargin": true,
            "type": "pie"
           }
          ],
          "scatter": [
           {
            "fillpattern": {
             "fillmode": "overlay",
             "size": 10,
             "solidity": 0.2
            },
            "type": "scatter"
           }
          ],
          "scatter3d": [
           {
            "line": {
             "colorbar": {
              "outlinewidth": 0,
              "ticks": ""
             }
            },
            "marker": {
             "colorbar": {
              "outlinewidth": 0,
              "ticks": ""
             }
            },
            "type": "scatter3d"
           }
          ],
          "scattercarpet": [
           {
            "marker": {
             "colorbar": {
              "outlinewidth": 0,
              "ticks": ""
             }
            },
            "type": "scattercarpet"
           }
          ],
          "scattergeo": [
           {
            "marker": {
             "colorbar": {
              "outlinewidth": 0,
              "ticks": ""
             }
            },
            "type": "scattergeo"
           }
          ],
          "scattergl": [
           {
            "marker": {
             "colorbar": {
              "outlinewidth": 0,
              "ticks": ""
             }
            },
            "type": "scattergl"
           }
          ],
          "scattermapbox": [
           {
            "marker": {
             "colorbar": {
              "outlinewidth": 0,
              "ticks": ""
             }
            },
            "type": "scattermapbox"
           }
          ],
          "scatterpolar": [
           {
            "marker": {
             "colorbar": {
              "outlinewidth": 0,
              "ticks": ""
             }
            },
            "type": "scatterpolar"
           }
          ],
          "scatterpolargl": [
           {
            "marker": {
             "colorbar": {
              "outlinewidth": 0,
              "ticks": ""
             }
            },
            "type": "scatterpolargl"
           }
          ],
          "scatterternary": [
           {
            "marker": {
             "colorbar": {
              "outlinewidth": 0,
              "ticks": ""
             }
            },
            "type": "scatterternary"
           }
          ],
          "surface": [
           {
            "colorbar": {
             "outlinewidth": 0,
             "ticks": ""
            },
            "colorscale": [
             [
              0,
              "#0d0887"
             ],
             [
              0.1111111111111111,
              "#46039f"
             ],
             [
              0.2222222222222222,
              "#7201a8"
             ],
             [
              0.3333333333333333,
              "#9c179e"
             ],
             [
              0.4444444444444444,
              "#bd3786"
             ],
             [
              0.5555555555555556,
              "#d8576b"
             ],
             [
              0.6666666666666666,
              "#ed7953"
             ],
             [
              0.7777777777777778,
              "#fb9f3a"
             ],
             [
              0.8888888888888888,
              "#fdca26"
             ],
             [
              1,
              "#f0f921"
             ]
            ],
            "type": "surface"
           }
          ],
          "table": [
           {
            "cells": {
             "fill": {
              "color": "#EBF0F8"
             },
             "line": {
              "color": "white"
             }
            },
            "header": {
             "fill": {
              "color": "#C8D4E3"
             },
             "line": {
              "color": "white"
             }
            },
            "type": "table"
           }
          ]
         },
         "layout": {
          "annotationdefaults": {
           "arrowcolor": "#2a3f5f",
           "arrowhead": 0,
           "arrowwidth": 1
          },
          "autotypenumbers": "strict",
          "coloraxis": {
           "colorbar": {
            "outlinewidth": 0,
            "ticks": ""
           }
          },
          "colorscale": {
           "diverging": [
            [
             0,
             "#8e0152"
            ],
            [
             0.1,
             "#c51b7d"
            ],
            [
             0.2,
             "#de77ae"
            ],
            [
             0.3,
             "#f1b6da"
            ],
            [
             0.4,
             "#fde0ef"
            ],
            [
             0.5,
             "#f7f7f7"
            ],
            [
             0.6,
             "#e6f5d0"
            ],
            [
             0.7,
             "#b8e186"
            ],
            [
             0.8,
             "#7fbc41"
            ],
            [
             0.9,
             "#4d9221"
            ],
            [
             1,
             "#276419"
            ]
           ],
           "sequential": [
            [
             0,
             "#0d0887"
            ],
            [
             0.1111111111111111,
             "#46039f"
            ],
            [
             0.2222222222222222,
             "#7201a8"
            ],
            [
             0.3333333333333333,
             "#9c179e"
            ],
            [
             0.4444444444444444,
             "#bd3786"
            ],
            [
             0.5555555555555556,
             "#d8576b"
            ],
            [
             0.6666666666666666,
             "#ed7953"
            ],
            [
             0.7777777777777778,
             "#fb9f3a"
            ],
            [
             0.8888888888888888,
             "#fdca26"
            ],
            [
             1,
             "#f0f921"
            ]
           ],
           "sequentialminus": [
            [
             0,
             "#0d0887"
            ],
            [
             0.1111111111111111,
             "#46039f"
            ],
            [
             0.2222222222222222,
             "#7201a8"
            ],
            [
             0.3333333333333333,
             "#9c179e"
            ],
            [
             0.4444444444444444,
             "#bd3786"
            ],
            [
             0.5555555555555556,
             "#d8576b"
            ],
            [
             0.6666666666666666,
             "#ed7953"
            ],
            [
             0.7777777777777778,
             "#fb9f3a"
            ],
            [
             0.8888888888888888,
             "#fdca26"
            ],
            [
             1,
             "#f0f921"
            ]
           ]
          },
          "colorway": [
           "#636efa",
           "#EF553B",
           "#00cc96",
           "#ab63fa",
           "#FFA15A",
           "#19d3f3",
           "#FF6692",
           "#B6E880",
           "#FF97FF",
           "#FECB52"
          ],
          "font": {
           "color": "#2a3f5f"
          },
          "geo": {
           "bgcolor": "white",
           "lakecolor": "white",
           "landcolor": "#E5ECF6",
           "showlakes": true,
           "showland": true,
           "subunitcolor": "white"
          },
          "hoverlabel": {
           "align": "left"
          },
          "hovermode": "closest",
          "mapbox": {
           "style": "light"
          },
          "paper_bgcolor": "white",
          "plot_bgcolor": "#E5ECF6",
          "polar": {
           "angularaxis": {
            "gridcolor": "white",
            "linecolor": "white",
            "ticks": ""
           },
           "bgcolor": "#E5ECF6",
           "radialaxis": {
            "gridcolor": "white",
            "linecolor": "white",
            "ticks": ""
           }
          },
          "scene": {
           "xaxis": {
            "backgroundcolor": "#E5ECF6",
            "gridcolor": "white",
            "gridwidth": 2,
            "linecolor": "white",
            "showbackground": true,
            "ticks": "",
            "zerolinecolor": "white"
           },
           "yaxis": {
            "backgroundcolor": "#E5ECF6",
            "gridcolor": "white",
            "gridwidth": 2,
            "linecolor": "white",
            "showbackground": true,
            "ticks": "",
            "zerolinecolor": "white"
           },
           "zaxis": {
            "backgroundcolor": "#E5ECF6",
            "gridcolor": "white",
            "gridwidth": 2,
            "linecolor": "white",
            "showbackground": true,
            "ticks": "",
            "zerolinecolor": "white"
           }
          },
          "shapedefaults": {
           "line": {
            "color": "#2a3f5f"
           }
          },
          "ternary": {
           "aaxis": {
            "gridcolor": "white",
            "linecolor": "white",
            "ticks": ""
           },
           "baxis": {
            "gridcolor": "white",
            "linecolor": "white",
            "ticks": ""
           },
           "bgcolor": "#E5ECF6",
           "caxis": {
            "gridcolor": "white",
            "linecolor": "white",
            "ticks": ""
           }
          },
          "title": {
           "x": 0.05
          },
          "xaxis": {
           "automargin": true,
           "gridcolor": "white",
           "linecolor": "white",
           "ticks": "",
           "title": {
            "standoff": 15
           },
           "zerolinecolor": "white",
           "zerolinewidth": 2
          },
          "yaxis": {
           "automargin": true,
           "gridcolor": "white",
           "linecolor": "white",
           "ticks": "",
           "title": {
            "standoff": 15
           },
           "zerolinecolor": "white",
           "zerolinewidth": 2
          }
         }
        },
        "title": {
         "text": "Distribution of Poses Histgram"
        },
        "xaxis": {
         "anchor": "y",
         "domain": [
          0,
          1
         ],
         "title": {
          "text": "x"
         }
        },
        "yaxis": {
         "anchor": "x",
         "domain": [
          0,
          1
         ],
         "title": {
          "text": "sum of y"
         }
        }
       }
      }
     },
     "metadata": {},
     "output_type": "display_data"
    }
   ],
   "source": [
    "# Plot the histogram\n",
    "hist_figure = px.histogram(x=class_names, y=class_distribution, title='Distribution of Poses Histgram',color=class_names)\n",
    "hist_figure.show()"
   ]
  },
  {
   "cell_type": "code",
   "execution_count": 26,
   "metadata": {},
   "outputs": [
    {
     "data": {
      "image/png": "[encoded data removed]",
      "text/plain": [
       "<Figure size 1000x1000 with 47 Axes>"
      ]
     },
     "metadata": {},
     "output_type": "display_data"
    }
   ],
   "source": [
    "# Visualize some of the images\n",
    "plt.figure(figsize = (10,10))\n",
    "\n",
    "for index, label in enumerate(os.listdir(image_path)):\n",
    "\n",
    "  image_list = os.listdir(os.path.join(image_path,label))\n",
    "\n",
    "  # Display random images from the list\n",
    "  random_images = random.choice(image_list)\n",
    "  random_images = Image.open(os.path.join(image_path,label, random_images))\n",
    "\n",
    "  # Plot\n",
    "  plt.subplot(8,6,index+1)\n",
    "  plt.imshow(random_images)\n",
    "  plt.title(label,fontsize=6)\n",
    "  plt.grid('off')\n",
    "  plt.axis('off')\n",
    "\n",
    "plt.show()"
   ]
  },
  {
   "cell_type": "code",
   "execution_count": 27,
   "metadata": {},
   "outputs": [],
   "source": [
    "# Filtering out images that don't have the extensions we want -> I already ran this so we don't have to run this cell again\n",
    "# image_extensions = ['jpg', 'jpeg', 'png']\n",
    "# count = 0\n",
    "# # Iterate through each subfolder and validate the extensions\n",
    "# for directories in os.listdir(image_path):\n",
    "#   for images in os.listdir(os.path.join(image_path,directories)):\n",
    "#     path = os.path.join(image_path, directories, images)\n",
    "#     try:\n",
    "#       img = cv2.imread(path)\n",
    "#       imgtype = imghdr.what(path)\n",
    "#       if imgtype not in image_extensions:\n",
    "#         print(f\"{path} does not have the correct extensions\")\n",
    "#         os.remove(path)\n",
    "#     except Exception as e:\n",
    "#       print(f\"Please check path of: {path}\")\n",
    "#   count +=1\n",
    "#   print(count)"
   ]
  },
  {
   "cell_type": "markdown",
   "metadata": {},
   "source": [
    "### Calculations"
   ]
  },
  {
   "cell_type": "code",
   "execution_count": 28,
   "metadata": {},
   "outputs": [],
   "source": [
    "model = YOLO(\"yolov8n-pose.pt\")\n",
    "\n",
    "global find_angles \n",
    "\n",
    "kp_list = [(6, 8, 10, 'R-A'),(5, 7, 9, 'L-A'),(6, 12, 14, 'R-H'),(5, 11, 13, 'L-H'),\n",
    "                                   (11, 13, 15, 'L-K'), (12, 14, 16, 'R-K'), (8, 6, 5, 'R-S'), (7, 5, 6, 'L-S')]\n",
    "\n",
    "gym_object = YogAI()  # init AI GYM module\n",
    "gym_object.set_params(line_thickness=2,\n",
    "                    view_frame=True,\n",
    "                    yoga_pose=\"standing\",\n",
    "                    kp_check=kp_list)\n",
    "\n",
    "folder_paths = (\"./Virabhadrasana_Two/left\", \n",
    "                \"./Virabhadrasana_Two/right\", \n",
    "                \"./Upavistha_Konasana\", \n",
    "                \"./Adho_Mukha_Svanasana/left\",\n",
    "                \"./Adho_Mukha_Svanasana/right\")\n",
    "\n",
    "def get_yoga_range(path):\n",
    "    global find_angles\n",
    "    find_angles = []\n",
    "    file_names = (f for f in os.listdir(path) if os.path.isfile(os.path.join(path, f)))\n",
    "\n",
    "    angles = pd.DataFrame({'A' : []})\n",
    "   \n",
    "\n",
    "    for fname in file_names:\n",
    "        try:\n",
    "            full_name = path + '/' + fname\n",
    "            im0 = cv.imread(full_name)\n",
    "            results = model.predict(im0, verbose=False)\n",
    "            temp = gym_object.find_pose(im0, results, 1, full_name)\n",
    "            find_angles = temp\n",
    "            if not angles.empty:\n",
    "                angles = pd.concat([angles, temp], ignore_index=True)\n",
    "            else:\n",
    "                angles = temp\n",
    "        except:\n",
    "            pass\n",
    "\n",
    "        \n",
    "    ranges = {}\n",
    "    deets = angles.describe()\n",
    "    \n",
    "    for angle in deets.columns:\n",
    "        r =  (deets[angle]['mean'] - 2 * deets[angle]['std'], deets[angle]['mean'] + 2 * deets[angle]['std'])\n",
    "        ranges[angle] = r\n",
    "        \n",
    "    return ranges\n",
    "    \n",
    "    \n",
    "\n",
    "Virabhadrasana_Two_left = get_yoga_range(folder_paths[0])\n",
    "Virabhadrasana_Two_right = get_yoga_range(folder_paths[1])\n",
    "Upavistha_Konasana = get_yoga_range(folder_paths[2])\n",
    "Adho_Mukha_Svanasana_left = get_yoga_range(folder_paths[3])\n",
    "Adho_Mukha_Svanasana_right= get_yoga_range(folder_paths[4])"
   ]
  },
  {
   "cell_type": "code",
   "execution_count": 29,
   "metadata": {},
   "outputs": [
    {
     "data": {
      "text/plain": [
       "{'R-A': (145.20548922411814, 190.8990460623196),\n",
       " 'L-A': (119.65277644340277, 177.32132951263605),\n",
       " 'R-H': (97.19231603047089, 159.58115901753249),\n",
       " 'L-H': (85.94347766984592, 138.0462787263075),\n",
       " 'L-K': (67.59999845695957, 187.03397957495548),\n",
       " 'R-K': (147.74158579286222, 190.47415686791305),\n",
       " 'R-S': (154.6376426224466, 188.0280685499501),\n",
       " 'L-S': (158.96767589773575, 186.78257620649228)}"
      ]
     },
     "execution_count": 29,
     "metadata": {},
     "output_type": "execute_result"
    }
   ],
   "source": [
    "Virabhadrasana_Two_right"
   ]
  },
  {
   "cell_type": "code",
   "execution_count": 30,
   "metadata": {},
   "outputs": [
    {
     "data": {
      "text/plain": [
       "{'R-A': (134.72181760261157, 194.2383368978392),\n",
       " 'L-A': (136.5617429535768, 186.35974433116917),\n",
       " 'R-H': (96.05767786882447, 138.10750656754257),\n",
       " 'L-H': (101.79141298969343, 149.21051213980985),\n",
       " 'L-K': (149.7792467197921, 179.0720192653026),\n",
       " 'R-K': (114.87883066412137, 156.62342368178184),\n",
       " 'R-S': (159.06276026833967, 184.63315245287322),\n",
       " 'L-S': (159.77062943479564, 183.4107871019836)}"
      ]
     },
     "execution_count": 30,
     "metadata": {},
     "output_type": "execute_result"
    }
   ],
   "source": [
    "Virabhadrasana_Two_left"
   ]
  },
  {
   "cell_type": "code",
   "execution_count": 31,
   "metadata": {},
   "outputs": [
    {
     "data": {
      "text/plain": [
       "{'R-A': (99.54169468093207, 180.58494254126012),\n",
       " 'L-A': (145.8266174025256, 195.42897526055023),\n",
       " 'R-H': (94.32419002727046, 108.34662668611641),\n",
       " 'L-H': (65.09829256523162, 112.04490386109683),\n",
       " 'L-K': (141.2602094754612, 181.9017886045223),\n",
       " 'R-K': (143.94436492636623, 191.7562417149274),\n",
       " 'R-S': (-2.103492860574285, 78.66989979603889),\n",
       " 'L-S': (86.12380980530325, 118.5426105986429)}"
      ]
     },
     "execution_count": 31,
     "metadata": {},
     "output_type": "execute_result"
    }
   ],
   "source": [
    "Adho_Mukha_Svanasana_right"
   ]
  },
  {
   "cell_type": "markdown",
   "metadata": {},
   "source": [
    "# Running the Code"
   ]
  },
  {
   "cell_type": "code",
   "execution_count": 32,
   "metadata": {},
   "outputs": [],
   "source": [
    "# Load YOLO model\n",
    "model = YOLO(\"yolov8n-pose.pt\")\n",
    "\n",
    "# Grab the camera\n",
    "cap = cv.VideoCapture(0)\n",
    "\n",
    "if not cap.isOpened():\n",
    "    print(\"Error opening camera\")\n",
    "    exit(0)\n",
    "\n",
    "pose = YogAI()  # init AI GYM module\n",
    "pose.set_params(line_thickness=2,\n",
    "                    view_frame=True,\n",
    "                    yoga_pose=\"Upavistha_Konasana\",\n",
    "                    kp_check=kp_list)"
   ]
  },
  {
   "cell_type": "code",
   "execution_count": 33,
   "metadata": {},
   "outputs": [],
   "source": [
    "# Display\n",
    "frame_count = 0\n",
    "while True:\n",
    "    # Capture frame-by-frame\n",
    "    success, frame = cap.read()\n",
    "    if not success:\n",
    "        print(\"Error reading frame\")\n",
    "        break\n",
    "\n",
    "    frame_count += 1\n",
    "\n",
    "    # Perform YOLO prediction on the current frame\n",
    "    results = model.predict(frame, verbose=False)\n",
    "\n",
    "    # Finding the angles\n",
    "    kp_angles = pose.find_pose(frame,results,frame_count,\"Upavistha_Konasana\")\n",
    "    kp_angles = kp_angles.drop('img',axis=1)\n",
    "\n",
    "    # Process the frame with the AI GYM module\n",
    "    video, _ = pose.calibration(frame, kp_angles, Virabhadrasana_Two_right, results, frame_count)\n",
    "\n",
    "    # Show\n",
    "    cv.imshow('Yoga Poses', video)\n",
    "\n",
    "    # Break the loop if 'q' key is pressed\n",
    "    if cv.waitKey(1) & 0xFF == ord('q'):\n",
    "        break\n",
    "\n",
    "# Release the camera and close all OpenCV windows\n",
    "cap.release()\n",
    "cv.destroyAllWindows()"
   ]
  },
  {
   "cell_type": "markdown",
   "metadata": {},
   "source": [
    "### Gradio"
   ]
  },
  {
   "cell_type": "code",
   "execution_count": 36,
   "metadata": {},
   "outputs": [
    {
     "name": "stdout",
     "output_type": "stream",
     "text": [
      "Running on local URL:  http://127.0.0.1:7860\n",
      "\n",
      "To create a public link, set `share=True` in `launch()`.\n"
     ]
    },
    {
     "data": {
      "text/html": [
       "<div><iframe src=\"http://127.0.0.1:7860/\" width=\"100%\" height=\"500\" allow=\"autoplay; camera; microphone; clipboard-read; clipboard-write;\" frameborder=\"0\" allowfullscreen></iframe></div>"
      ],
      "text/plain": [
       "<IPython.core.display.HTML object>"
      ]
     },
     "metadata": {},
     "output_type": "display_data"
    },
    {
     "data": {
      "text/plain": []
     },
     "execution_count": 36,
     "metadata": {},
     "output_type": "execute_result"
    }
   ],
   "source": [
    "def veedio(pose_type,image):\n",
    "    model = YOLO(\"yolov8n-pose.pt\")\n",
    "    pose = YogAI()  # init AI GYM module\n",
    "    pose.set_params(line_thickness=2,\n",
    "                    view_frame=True,\n",
    "                    yoga_pose=pose_type,\n",
    "                    kp_check=kp_list)\n",
    "    \n",
    "        # Perform YOLO prediction on the current frame\n",
    "    results = model.predict(image, verbose=False)\n",
    "\n",
    "    # Finding the angles\n",
    "    kp_angles = pose.find_pose(image,results,1,pose_type)\n",
    "    kp_angles = kp_angles.drop('img',axis=1)\n",
    "\n",
    "\n",
    "    # Yeah, if you can think of a better solution for this...\n",
    "    if pose_type=='Virabhadrasana_Two_left':\n",
    "        pose_type = Virabhadrasana_Two_left\n",
    "    elif pose_type=='Virabhadrasana_Two_right':\n",
    "        pose_type = Virabhadrasana_Two_right\n",
    "    elif pose_type == 'Upavistha_Konasana':\n",
    "        pose_type = Upavistha_Konasana\n",
    "    elif pose_type == 'Adho_Mukha_Svanasana_left':\n",
    "        pose_type = Adho_Mukha_Svanasana_left\n",
    "    elif pose_type =='Adho_Mukha_Svanasana_right':\n",
    "        pose_type = Adho_Mukha_Svanasana_right\n",
    "    else:\n",
    "        pose_type = Virabhadrasana_Two_left # default\n",
    "\n",
    "    # Process the frame with the AI GYM module\n",
    "    video,text = pose.calibration(image, kp_angles, pose_type, results, 1)\n",
    "    \n",
    "    return video,text\n",
    "\n",
    "webapp = gradio.Interface(veedio,['text',gradio.Image(sources=[\"webcam\"])],[\"image\",\"text\"])\n",
    "\n",
    "webapp.launch()"
   ]
  }
 ],
 "metadata": {
  "kernelspec": {
   "display_name": "yolov8",
   "language": "python",
   "name": "python3"
  },
  "language_info": {
   "codemirror_mode": {
    "name": "ipython",
    "version": 3
   },
   "file_extension": ".py",
   "mimetype": "text/x-python",
   "name": "python",
   "nbconvert_exporter": "python",
   "pygments_lexer": "ipython3",
   "version": "3.11.5"
  }
 },
 "nbformat": 4,
 "nbformat_minor": 2
}
